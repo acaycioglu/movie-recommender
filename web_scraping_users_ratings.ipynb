{
  "cells": [
    {
      "cell_type": "markdown",
      "metadata": {
        "id": "qoZ6O6_q8071"
      },
      "source": [
        "# Web Scraping"
      ]
    },
    {
      "cell_type": "code",
      "execution_count": null,
      "metadata": {
        "id": "ofbu8aj_rHaW"
      },
      "outputs": [],
      "source": [
        "import math\n",
        "import requests\n",
        "from bs4 import BeautifulSoup\n",
        "import json\n",
        "import pandas as pd\n",
        "import numpy as np\n",
        "# Profile link that we want to know who he/she follows\n",
        "url=\"https://letterboxd.com/nyanni35/following/\"\n",
        "response = requests.get(url)\n",
        "soup = BeautifulSoup(response.content, \"html.parser\")\n",
        "person= int(soup.find_all(\"li\",attrs={\"class\":\"selected\"})[0].a.get(\"title\").replace(\"\\xa0people\",\"\").replace(\",\",\"\"))\n",
        "#Gets followers and append them to a list named followinglist.\n",
        "followinglist=[]\n",
        "for i in range(math.ceil(person/25)):\n",
        "  url=\"https://letterboxd.com/nyanni35/following/\"+\"page/\"+str(i+1)\n",
        "  response = requests.get(url)\n",
        "  soup = BeautifulSoup(response.content, \"html.parser\")\n",
        "  for person in soup.find_all(\"a\",attrs={\"class\":\"name\"}):\n",
        "    followinglist.append(person.get(\"href\"))"
      ]
    },
    {
      "cell_type": "code",
      "execution_count": null,
      "metadata": {
        "colab": {
          "base_uri": "https://localhost:8080/"
        },
        "id": "ibOPiAgyvG3g",
        "outputId": "9228e2da-5d86-4c47-aac5-719e21dba165"
      },
      "outputs": [
        {
          "name": "stdout",
          "output_type": "stream",
          "text": [
            "['/dcas4nova/', '/kwesivocals/', '/stephywephy/', '/ashleyewalker/', '/brief_ex/']\n",
            "['/emreavsar/', '/grande_giove/', '/amirhossein01/', '/apocan/', '/khiabett/']\n"
          ]
        }
      ],
      "source": [
        "# Randomly shuffled the url list. The profile we scraping was randomly following people and he was following random people to get more followers. \n",
        "# We shuffled again to make it more random.\n",
        "import random\n",
        "random.shuffle(followinglist)\n",
        "print(followinglist[:5])"
      ]
    },
    {
      "cell_type": "code",
      "execution_count": null,
      "metadata": {
        "id": "x3QDq7mctjyw"
      },
      "outputs": [],
      "source": [
        "import numpy as np\n",
        "# Our dataframe\n",
        "dftemp = pd.DataFrame({\"userid\":[np.nan],\"movieid\":[np.nan],\"rating\":[np.nan]})\n",
        "number_of_person = 300\n",
        "# This code gets 300 random profile's all movie ratings.\n",
        "for userurl in followinglist[:number_of_person]:\n",
        "  url=\"https://letterboxd.com\"+userurl+\"films/by/rated-date/\"\n",
        "  response = requests.get(url)\n",
        "  soup = BeautifulSoup(response.content, \"html.parser\")\n",
        "  try:\n",
        "    totalpagenumberstr=soup.find_all(\"li\",attrs={\"class\":\"paginate-page\"})[-1].text\n",
        "    for page in range(int(totalpagenumberstr)):\n",
        "      urlpage = url+\"page/\"+str(page+1)\n",
        "\n",
        "      response = requests.get(urlpage)\n",
        "      soup = BeautifulSoup(response.content, \"html.parser\")\n",
        "\n",
        "      for link in soup.find_all(\"li\",attrs={\"class\":\"poster-container\"}):\n",
        "      #link.div.get(\"data-film-slug\")\n",
        "      #\n",
        "        try:\n",
        "          dftemp.loc[len(dftemp.index)]=[userurl,link.div.get(\"data-target-link\"),link.p.span.get(\"class\")[-1].replace(\"rated-\",\"\")]\n",
        "        # It helps to find all anchor tag’s\n",
        "        except:\n",
        "          dftemp.loc[len(dftemp.index)]=[userurl,link.div.get(\"data-target-link\"),\"Not Rated\"]\n",
        "      \n",
        "  except:\n",
        "    continue "
      ]
    },
    {
      "cell_type": "code",
      "execution_count": null,
      "metadata": {
        "colab": {
          "base_uri": "https://localhost:8080/",
          "height": 419
        },
        "id": "ofMIh53_vvAi",
        "outputId": "efc09044-7906-4ae3-cbfd-5fae8a5ca899"
      },
      "outputs": [
        {
          "data": {
            "text/html": [
              "\n",
              "  <div id=\"df-6f02af56-5877-4d10-8ad5-cd1ee32360e2\">\n",
              "    <div class=\"colab-df-container\">\n",
              "      <div>\n",
              "<style scoped>\n",
              "    .dataframe tbody tr th:only-of-type {\n",
              "        vertical-align: middle;\n",
              "    }\n",
              "\n",
              "    .dataframe tbody tr th {\n",
              "        vertical-align: top;\n",
              "    }\n",
              "\n",
              "    .dataframe thead th {\n",
              "        text-align: right;\n",
              "    }\n",
              "</style>\n",
              "<table border=\"1\" class=\"dataframe\">\n",
              "  <thead>\n",
              "    <tr style=\"text-align: right;\">\n",
              "      <th></th>\n",
              "      <th>userid</th>\n",
              "      <th>movieid</th>\n",
              "      <th>rating</th>\n",
              "    </tr>\n",
              "  </thead>\n",
              "  <tbody>\n",
              "    <tr>\n",
              "      <th>1</th>\n",
              "      <td>/halloweenhenry/</td>\n",
              "      <td>/film/the-king-of-kong-a-fistful-of-quarters/</td>\n",
              "      <td>10</td>\n",
              "    </tr>\n",
              "    <tr>\n",
              "      <th>2</th>\n",
              "      <td>/halloweenhenry/</td>\n",
              "      <td>/film/the-celebration/</td>\n",
              "      <td>7</td>\n",
              "    </tr>\n",
              "    <tr>\n",
              "      <th>3</th>\n",
              "      <td>/halloweenhenry/</td>\n",
              "      <td>/film/the-legend-of-hell-house/</td>\n",
              "      <td>8</td>\n",
              "    </tr>\n",
              "    <tr>\n",
              "      <th>4</th>\n",
              "      <td>/halloweenhenry/</td>\n",
              "      <td>/film/easy-rider/</td>\n",
              "      <td>8</td>\n",
              "    </tr>\n",
              "    <tr>\n",
              "      <th>5</th>\n",
              "      <td>/halloweenhenry/</td>\n",
              "      <td>/film/planet-of-the-apes/</td>\n",
              "      <td>8</td>\n",
              "    </tr>\n",
              "    <tr>\n",
              "      <th>...</th>\n",
              "      <td>...</td>\n",
              "      <td>...</td>\n",
              "      <td>...</td>\n",
              "    </tr>\n",
              "    <tr>\n",
              "      <th>191707</th>\n",
              "      <td>/jjram00/</td>\n",
              "      <td>/film/werewolf-by-night/</td>\n",
              "      <td>Not Rated</td>\n",
              "    </tr>\n",
              "    <tr>\n",
              "      <th>191708</th>\n",
              "      <td>/jjram00/</td>\n",
              "      <td>/film/far-from-the-tree-2021/</td>\n",
              "      <td>Not Rated</td>\n",
              "    </tr>\n",
              "    <tr>\n",
              "      <th>191709</th>\n",
              "      <td>/jjram00/</td>\n",
              "      <td>/film/nimic/</td>\n",
              "      <td>Not Rated</td>\n",
              "    </tr>\n",
              "    <tr>\n",
              "      <th>191710</th>\n",
              "      <td>/jjram00/</td>\n",
              "      <td>/film/bao-2018/</td>\n",
              "      <td>Not Rated</td>\n",
              "    </tr>\n",
              "    <tr>\n",
              "      <th>191711</th>\n",
              "      <td>/jjram00/</td>\n",
              "      <td>/film/the-strange-thing-about-the-johnsons/</td>\n",
              "      <td>Not Rated</td>\n",
              "    </tr>\n",
              "  </tbody>\n",
              "</table>\n",
              "<p>321515 rows × 3 columns</p>\n",
              "</div>\n",
              "      <button class=\"colab-df-convert\" onclick=\"convertToInteractive('df-6f02af56-5877-4d10-8ad5-cd1ee32360e2')\"\n",
              "              title=\"Convert this dataframe to an interactive table.\"\n",
              "              style=\"display:none;\">\n",
              "        \n",
              "  <svg xmlns=\"http://www.w3.org/2000/svg\" height=\"24px\"viewBox=\"0 0 24 24\"\n",
              "       width=\"24px\">\n",
              "    <path d=\"M0 0h24v24H0V0z\" fill=\"none\"/>\n",
              "    <path d=\"M18.56 5.44l.94 2.06.94-2.06 2.06-.94-2.06-.94-.94-2.06-.94 2.06-2.06.94zm-11 1L8.5 8.5l.94-2.06 2.06-.94-2.06-.94L8.5 2.5l-.94 2.06-2.06.94zm10 10l.94 2.06.94-2.06 2.06-.94-2.06-.94-.94-2.06-.94 2.06-2.06.94z\"/><path d=\"M17.41 7.96l-1.37-1.37c-.4-.4-.92-.59-1.43-.59-.52 0-1.04.2-1.43.59L10.3 9.45l-7.72 7.72c-.78.78-.78 2.05 0 2.83L4 21.41c.39.39.9.59 1.41.59.51 0 1.02-.2 1.41-.59l7.78-7.78 2.81-2.81c.8-.78.8-2.07 0-2.86zM5.41 20L4 18.59l7.72-7.72 1.47 1.35L5.41 20z\"/>\n",
              "  </svg>\n",
              "      </button>\n",
              "      \n",
              "  <style>\n",
              "    .colab-df-container {\n",
              "      display:flex;\n",
              "      flex-wrap:wrap;\n",
              "      gap: 12px;\n",
              "    }\n",
              "\n",
              "    .colab-df-convert {\n",
              "      background-color: #E8F0FE;\n",
              "      border: none;\n",
              "      border-radius: 50%;\n",
              "      cursor: pointer;\n",
              "      display: none;\n",
              "      fill: #1967D2;\n",
              "      height: 32px;\n",
              "      padding: 0 0 0 0;\n",
              "      width: 32px;\n",
              "    }\n",
              "\n",
              "    .colab-df-convert:hover {\n",
              "      background-color: #E2EBFA;\n",
              "      box-shadow: 0px 1px 2px rgba(60, 64, 67, 0.3), 0px 1px 3px 1px rgba(60, 64, 67, 0.15);\n",
              "      fill: #174EA6;\n",
              "    }\n",
              "\n",
              "    [theme=dark] .colab-df-convert {\n",
              "      background-color: #3B4455;\n",
              "      fill: #D2E3FC;\n",
              "    }\n",
              "\n",
              "    [theme=dark] .colab-df-convert:hover {\n",
              "      background-color: #434B5C;\n",
              "      box-shadow: 0px 1px 3px 1px rgba(0, 0, 0, 0.15);\n",
              "      filter: drop-shadow(0px 1px 2px rgba(0, 0, 0, 0.3));\n",
              "      fill: #FFFFFF;\n",
              "    }\n",
              "  </style>\n",
              "\n",
              "      <script>\n",
              "        const buttonEl =\n",
              "          document.querySelector('#df-6f02af56-5877-4d10-8ad5-cd1ee32360e2 button.colab-df-convert');\n",
              "        buttonEl.style.display =\n",
              "          google.colab.kernel.accessAllowed ? 'block' : 'none';\n",
              "\n",
              "        async function convertToInteractive(key) {\n",
              "          const element = document.querySelector('#df-6f02af56-5877-4d10-8ad5-cd1ee32360e2');\n",
              "          const dataTable =\n",
              "            await google.colab.kernel.invokeFunction('convertToInteractive',\n",
              "                                                     [key], {});\n",
              "          if (!dataTable) return;\n",
              "\n",
              "          const docLinkHtml = 'Like what you see? Visit the ' +\n",
              "            '<a target=\"_blank\" href=https://colab.research.google.com/notebooks/data_table.ipynb>data table notebook</a>'\n",
              "            + ' to learn more about interactive tables.';\n",
              "          element.innerHTML = '';\n",
              "          dataTable['output_type'] = 'display_data';\n",
              "          await google.colab.output.renderOutput(dataTable, element);\n",
              "          const docLink = document.createElement('div');\n",
              "          docLink.innerHTML = docLinkHtml;\n",
              "          element.appendChild(docLink);\n",
              "        }\n",
              "      </script>\n",
              "    </div>\n",
              "  </div>\n",
              "  "
            ],
            "text/plain": [
              "                  userid                                        movieid  \\\n",
              "1       /halloweenhenry/  /film/the-king-of-kong-a-fistful-of-quarters/   \n",
              "2       /halloweenhenry/                         /film/the-celebration/   \n",
              "3       /halloweenhenry/                /film/the-legend-of-hell-house/   \n",
              "4       /halloweenhenry/                              /film/easy-rider/   \n",
              "5       /halloweenhenry/                      /film/planet-of-the-apes/   \n",
              "...                  ...                                            ...   \n",
              "191707         /jjram00/                       /film/werewolf-by-night/   \n",
              "191708         /jjram00/                  /film/far-from-the-tree-2021/   \n",
              "191709         /jjram00/                                   /film/nimic/   \n",
              "191710         /jjram00/                                /film/bao-2018/   \n",
              "191711         /jjram00/    /film/the-strange-thing-about-the-johnsons/   \n",
              "\n",
              "           rating  \n",
              "1              10  \n",
              "2               7  \n",
              "3               8  \n",
              "4               8  \n",
              "5               8  \n",
              "...           ...  \n",
              "191707  Not Rated  \n",
              "191708  Not Rated  \n",
              "191709  Not Rated  \n",
              "191710  Not Rated  \n",
              "191711  Not Rated  \n",
              "\n",
              "[321515 rows x 3 columns]"
            ]
          },
          "execution_count": 39,
          "metadata": {},
          "output_type": "execute_result"
        }
      ],
      "source": [
        "data = pd.read_csv(\"460users_all_ratings.csv\")\n",
        "data"
      ]
    },
    {
      "cell_type": "markdown",
      "metadata": {
        "id": "J5fz8vogXd62"
      },
      "source": [
        "# Data Analysis"
      ]
    },
    {
      "cell_type": "code",
      "execution_count": null,
      "metadata": {
        "colab": {
          "base_uri": "https://localhost:8080/"
        },
        "id": "OjlgxD-sXilE",
        "outputId": "4d174c54-5846-4bb4-a9b8-1c25dee8b8eb"
      },
      "outputs": [
        {
          "name": "stdout",
          "output_type": "stream",
          "text": [
            "<class 'pandas.core.frame.DataFrame'>\n",
            "Int64Index: 321515 entries, 1 to 191711\n",
            "Data columns (total 3 columns):\n",
            " #   Column   Non-Null Count   Dtype \n",
            "---  ------   --------------   ----- \n",
            " 0   userid   321515 non-null  object\n",
            " 1   movieid  321515 non-null  object\n",
            " 2   rating   321515 non-null  object\n",
            "dtypes: object(3)\n",
            "memory usage: 9.8+ MB\n"
          ]
        }
      ],
      "source": [
        "data.info()"
      ]
    },
    {
      "cell_type": "code",
      "execution_count": null,
      "metadata": {
        "colab": {
          "base_uri": "https://localhost:8080/",
          "height": 173
        },
        "id": "K3JOz-cAXup-",
        "outputId": "60f7b285-a834-40d5-de0d-97761c5e40b1"
      },
      "outputs": [
        {
          "data": {
            "text/html": [
              "\n",
              "  <div id=\"df-9e0a1c7f-f667-44cc-8b4a-d79c40161169\">\n",
              "    <div class=\"colab-df-container\">\n",
              "      <div>\n",
              "<style scoped>\n",
              "    .dataframe tbody tr th:only-of-type {\n",
              "        vertical-align: middle;\n",
              "    }\n",
              "\n",
              "    .dataframe tbody tr th {\n",
              "        vertical-align: top;\n",
              "    }\n",
              "\n",
              "    .dataframe thead th {\n",
              "        text-align: right;\n",
              "    }\n",
              "</style>\n",
              "<table border=\"1\" class=\"dataframe\">\n",
              "  <thead>\n",
              "    <tr style=\"text-align: right;\">\n",
              "      <th></th>\n",
              "      <th>userid</th>\n",
              "      <th>movieid</th>\n",
              "      <th>rating</th>\n",
              "    </tr>\n",
              "  </thead>\n",
              "  <tbody>\n",
              "    <tr>\n",
              "      <th>count</th>\n",
              "      <td>321515</td>\n",
              "      <td>321515</td>\n",
              "      <td>321515</td>\n",
              "    </tr>\n",
              "    <tr>\n",
              "      <th>unique</th>\n",
              "      <td>459</td>\n",
              "      <td>35287</td>\n",
              "      <td>12</td>\n",
              "    </tr>\n",
              "    <tr>\n",
              "      <th>top</th>\n",
              "      <td>/dannyboyff/</td>\n",
              "      <td>/film/joker-2019/</td>\n",
              "      <td>Not Rated</td>\n",
              "    </tr>\n",
              "    <tr>\n",
              "      <th>freq</th>\n",
              "      <td>3837</td>\n",
              "      <td>386</td>\n",
              "      <td>58307</td>\n",
              "    </tr>\n",
              "  </tbody>\n",
              "</table>\n",
              "</div>\n",
              "      <button class=\"colab-df-convert\" onclick=\"convertToInteractive('df-9e0a1c7f-f667-44cc-8b4a-d79c40161169')\"\n",
              "              title=\"Convert this dataframe to an interactive table.\"\n",
              "              style=\"display:none;\">\n",
              "        \n",
              "  <svg xmlns=\"http://www.w3.org/2000/svg\" height=\"24px\"viewBox=\"0 0 24 24\"\n",
              "       width=\"24px\">\n",
              "    <path d=\"M0 0h24v24H0V0z\" fill=\"none\"/>\n",
              "    <path d=\"M18.56 5.44l.94 2.06.94-2.06 2.06-.94-2.06-.94-.94-2.06-.94 2.06-2.06.94zm-11 1L8.5 8.5l.94-2.06 2.06-.94-2.06-.94L8.5 2.5l-.94 2.06-2.06.94zm10 10l.94 2.06.94-2.06 2.06-.94-2.06-.94-.94-2.06-.94 2.06-2.06.94z\"/><path d=\"M17.41 7.96l-1.37-1.37c-.4-.4-.92-.59-1.43-.59-.52 0-1.04.2-1.43.59L10.3 9.45l-7.72 7.72c-.78.78-.78 2.05 0 2.83L4 21.41c.39.39.9.59 1.41.59.51 0 1.02-.2 1.41-.59l7.78-7.78 2.81-2.81c.8-.78.8-2.07 0-2.86zM5.41 20L4 18.59l7.72-7.72 1.47 1.35L5.41 20z\"/>\n",
              "  </svg>\n",
              "      </button>\n",
              "      \n",
              "  <style>\n",
              "    .colab-df-container {\n",
              "      display:flex;\n",
              "      flex-wrap:wrap;\n",
              "      gap: 12px;\n",
              "    }\n",
              "\n",
              "    .colab-df-convert {\n",
              "      background-color: #E8F0FE;\n",
              "      border: none;\n",
              "      border-radius: 50%;\n",
              "      cursor: pointer;\n",
              "      display: none;\n",
              "      fill: #1967D2;\n",
              "      height: 32px;\n",
              "      padding: 0 0 0 0;\n",
              "      width: 32px;\n",
              "    }\n",
              "\n",
              "    .colab-df-convert:hover {\n",
              "      background-color: #E2EBFA;\n",
              "      box-shadow: 0px 1px 2px rgba(60, 64, 67, 0.3), 0px 1px 3px 1px rgba(60, 64, 67, 0.15);\n",
              "      fill: #174EA6;\n",
              "    }\n",
              "\n",
              "    [theme=dark] .colab-df-convert {\n",
              "      background-color: #3B4455;\n",
              "      fill: #D2E3FC;\n",
              "    }\n",
              "\n",
              "    [theme=dark] .colab-df-convert:hover {\n",
              "      background-color: #434B5C;\n",
              "      box-shadow: 0px 1px 3px 1px rgba(0, 0, 0, 0.15);\n",
              "      filter: drop-shadow(0px 1px 2px rgba(0, 0, 0, 0.3));\n",
              "      fill: #FFFFFF;\n",
              "    }\n",
              "  </style>\n",
              "\n",
              "      <script>\n",
              "        const buttonEl =\n",
              "          document.querySelector('#df-9e0a1c7f-f667-44cc-8b4a-d79c40161169 button.colab-df-convert');\n",
              "        buttonEl.style.display =\n",
              "          google.colab.kernel.accessAllowed ? 'block' : 'none';\n",
              "\n",
              "        async function convertToInteractive(key) {\n",
              "          const element = document.querySelector('#df-9e0a1c7f-f667-44cc-8b4a-d79c40161169');\n",
              "          const dataTable =\n",
              "            await google.colab.kernel.invokeFunction('convertToInteractive',\n",
              "                                                     [key], {});\n",
              "          if (!dataTable) return;\n",
              "\n",
              "          const docLinkHtml = 'Like what you see? Visit the ' +\n",
              "            '<a target=\"_blank\" href=https://colab.research.google.com/notebooks/data_table.ipynb>data table notebook</a>'\n",
              "            + ' to learn more about interactive tables.';\n",
              "          element.innerHTML = '';\n",
              "          dataTable['output_type'] = 'display_data';\n",
              "          await google.colab.output.renderOutput(dataTable, element);\n",
              "          const docLink = document.createElement('div');\n",
              "          docLink.innerHTML = docLinkHtml;\n",
              "          element.appendChild(docLink);\n",
              "        }\n",
              "      </script>\n",
              "    </div>\n",
              "  </div>\n",
              "  "
            ],
            "text/plain": [
              "              userid            movieid     rating\n",
              "count         321515             321515     321515\n",
              "unique           459              35287         12\n",
              "top     /dannyboyff/  /film/joker-2019/  Not Rated\n",
              "freq            3837                386      58307"
            ]
          },
          "execution_count": 50,
          "metadata": {},
          "output_type": "execute_result"
        }
      ],
      "source": [
        "data.describe()"
      ]
    },
    {
      "cell_type": "code",
      "execution_count": null,
      "metadata": {
        "colab": {
          "base_uri": "https://localhost:8080/"
        },
        "id": "oY0Ts2rwX0RC",
        "outputId": "473310f9-ea13-4937-c2ab-8759f42c4f79"
      },
      "outputs": [
        {
          "data": {
            "text/plain": [
              "array(['10', '7', '8', '5', '3', '4', '6', '2', '9', '1', 'Not Rated',\n",
              "       'Liked, Not Rated'], dtype=object)"
            ]
          },
          "execution_count": 51,
          "metadata": {},
          "output_type": "execute_result"
        }
      ],
      "source": [
        "data.rating.unique()"
      ]
    },
    {
      "cell_type": "code",
      "execution_count": null,
      "metadata": {
        "colab": {
          "base_uri": "https://localhost:8080/"
        },
        "id": "EhmRGrG9YW8X",
        "outputId": "8e2b69c3-7c0a-4bfd-89bf-5bebe441a68a"
      },
      "outputs": [
        {
          "data": {
            "text/plain": [
              "userid     0\n",
              "movieid    0\n",
              "rating     0\n",
              "dtype: int64"
            ]
          },
          "execution_count": 53,
          "metadata": {},
          "output_type": "execute_result"
        }
      ],
      "source": [
        "data.isna().sum()\n",
        "#We have no missing values. "
      ]
    },
    {
      "cell_type": "code",
      "execution_count": null,
      "metadata": {
        "colab": {
          "base_uri": "https://localhost:8080/",
          "height": 573
        },
        "id": "-grILn0yYdSy",
        "outputId": "fdabae0e-d2f9-4e50-b242-63db3c6cc1be"
      },
      "outputs": [
        {
          "data": {
            "image/png": "[encoded data removed]",
            "text/plain": [
              "<Figure size 640x480 with 1 Axes>"
            ]
          },
          "metadata": {},
          "output_type": "display_data"
        }
      ],
      "source": [
        "import seaborn as sns\n",
        "import matplotlib.pyplot as plt\n",
        "order = [\"1\",\"2\",\"3\",\"4\",\"5\",\"6\",\"7\",\"8\",\"9\",\"10\",\"Not Rated\",\"Not Rated but Liked\"]\n",
        "sns.countplot(data,x=\"rating\",order=order,palette=\"flare\")\n",
        "plt.xticks(rotation=90)\n",
        "plt.xlabel(\"Ratings\")\n",
        "plt.title(\"Total Rating Counts\")\n",
        "plt.show()"
      ]
    },
    {
      "cell_type": "code",
      "execution_count": null,
      "metadata": {
        "colab": {
          "base_uri": "https://localhost:8080/"
        },
        "id": "4JRmsRZNbeZ1",
        "outputId": "f432a180-4590-436b-e11e-c43f3ad56e6a"
      },
      "outputs": [
        {
          "name": "stdout",
          "output_type": "stream",
          "text": [
            "Mean of Numeric Ratings is:  6.880378836317136\n",
            "Median of Numeric Ratings is:  7.0\n"
          ]
        }
      ],
      "source": [
        "print(\"Mean of Numeric Ratings is: \", data.query(\"rating in ['1','2','3','4','5','6','7','8','9','10']\")[\"rating\"].astype(int).mean())\n",
        "print(\"Median of Numeric Ratings is: \",data.query(\"rating in ['1','2','3','4','5','6','7','8','9','10']\")[\"rating\"].astype(int).median())"
      ]
    },
    {
      "cell_type": "code",
      "execution_count": null,
      "metadata": {
        "colab": {
          "base_uri": "https://localhost:8080/",
          "height": 449
        },
        "id": "3e4qfDrShlmd",
        "outputId": "d70c9133-b468-491e-96dd-c3fab3efde8f"
      },
      "outputs": [
        {
          "data": {
            "image/png": "[encoded data removed]",
            "text/plain": [
              "<Figure size 640x480 with 1 Axes>"
            ]
          },
          "metadata": {},
          "output_type": "display_data"
        }
      ],
      "source": [
        "sns.countplot(x=data[\"rating\"].apply(lambda x: \"Rated\" if x in ['1','2','3','4','5','6','7','8','9','10'] else x), palette=\"magma\")\n",
        "plt.show()"
      ]
    }
  ],
  "metadata": {
    "colab": {
      "provenance": []
    },
    "kernelspec": {
      "display_name": "Python 3",
      "language": "python",
      "name": "python3"
    },
    "language_info": {
      "name": "python",
      "version": "3.7.1 (v3.7.1:260ec2c36a, Oct 20 2018, 03:13:28) \n[Clang 6.0 (clang-600.0.57)]"
    },
    "vscode": {
      "interpreter": {
        "hash": "aee8b7b246df8f9039afb4144a1f6fd8d2ca17a180786b69acc140d282b71a49"
      }
    }
  },
  "nbformat": 4,
  "nbformat_minor": 0
}
